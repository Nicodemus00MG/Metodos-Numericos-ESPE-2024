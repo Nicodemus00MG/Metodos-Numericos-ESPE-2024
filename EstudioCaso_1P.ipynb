{
  "nbformat": 4,
  "nbformat_minor": 0,
  "metadata": {
    "colab": {
      "provenance": [],
      "toc_visible": true,
      "include_colab_link": true
    },
    "kernelspec": {
      "name": "python3",
      "display_name": "Python 3"
    },
    "language_info": {
      "name": "python"
    }
  },
  "cells": [
    {
      "cell_type": "markdown",
      "metadata": {
        "id": "view-in-github",
        "colab_type": "text"
      },
      "source": [
        "<a href=\"https://colab.research.google.com/github/Nicodemus00MG/Metodos-Numericos-ESPE-2024/blob/main/EstudioCaso_1P.ipynb\" target=\"_parent\"><img src=\"https://colab.research.google.com/assets/colab-badge.svg\" alt=\"Open In Colab\"/></a>"
      ]
    },
    {
      "cell_type": "code",
      "source": [
        "from IPython.display import HTML\n",
        "\n",
        "css = \"\"\"\n",
        "<style>\n",
        "@import url('https://fonts.googleapis.com/css2?family=Roboto:wght@300;400;700&display=swap');\n",
        "\n",
        "body {\n",
        "    font-family: 'Roboto', sans-serif;\n",
        "    background-color: #f0f0f0;\n",
        "    color: #333;\n",
        "    line-height: 1.6;\n",
        "}\n",
        ".container {\n",
        "    max-width: 800px;\n",
        "    margin: 20px auto;\n",
        "    background-color: white;\n",
        "    padding: 30px;\n",
        "    border-radius: 15px;\n",
        "    box-shadow: 0 0 20px rgba(0,0,0,0.1);\n",
        "}\n",
        ".header {\n",
        "    text-align: center;\n",
        "    margin-bottom: 30px;\n",
        "}\n",
        ".logo {\n",
        "    max-width: 400px;\n",
        "    margin-bottom: 20px;\n",
        "}\n",
        "h1 {\n",
        "    color: #003366;\n",
        "    font-size: 28px;\n",
        "    margin-bottom: 10px;\n",
        "}\n",
        "h2 {\n",
        "    color: #0055a4;\n",
        "    font-size: 22px;\n",
        "    margin-bottom: 5px;\n",
        "}\n",
        "h3 {\n",
        "    color: #0077be;\n",
        "    font-size: 18px;\n",
        "    margin-bottom: 5px;\n",
        "}\n",
        ".members {\n",
        "    background-color: #f9f9f9;\n",
        "    text-align:center;\n",
        "    padding: 20px;\n",
        "    border-radius: 10px;\n",
        "    margin-top: 20px;\n",
        "}\n",
        ".members h3 {\n",
        "    color: #003366;\n",
        "    border-bottom: 2px solid #003366;\n",
        "    padding-bottom: 5px;\n",
        "    margin-bottom: 15px;\n",
        "}\n",
        "ul {\n",
        "    list-style-type: none;\n",
        "    padding-left: 0;\n",
        "}\n",
        "li {\n",
        "    margin-bottom: 8px;\n",
        "}\n",
        ".nrc {\n",
        "    text-align: center;\n",
        "    font-weight: bold;\n",
        "    margin-top: 20px;\n",
        "    font-size: 18px;\n",
        "    color: #003366;\n",
        "}\n",
        "</style>\n",
        "\"\"\"\n",
        "\n",
        "html_content = css + \"\"\"\n",
        "<div class=\"container\">\n",
        "    <div class=\"header\">\n",
        "        <img src=\"https://www.espe.edu.ec/wp-content/uploads/2018/11/espe.png\" alt=\"ESPE Logo\" class=\"logo\">\n",
        "        <h1>UNIVERSIDAD DE LAS FUERZAS ARMADAS ESPE</h1>\n",
        "        <h2>MÉTODOS NUMÉRICOS</h2>\n",
        "        <h3>Caso de Estudio 1</h3>\n",
        "        <h3>GRUPO 6</h3>\n",
        "    </div>\n",
        "    <div class=\"members\">\n",
        "        <h3>INTEGRANTES:</h3>\n",
        "        <ul>\n",
        "            <li>ALVARADO ALCIVAR ANGIE NICOLE</li>\n",
        "            <li>SAENZ NOGALES FERNANDO DANIEL</li>\n",
        "            <li>BAQUERO LOPEZ FABRICIO FERNANDO</li>\n",
        "            <li>BRAVO MACIAS JAVIER NEICER</li>\n",
        "            <li>ENRIQUEZ MANYA BRYAN ORLANDO</li>\n",
        "            <li>MUÑOS GUALOTUÑA JOSUE NICOLAS</li>\n",
        "        </ul>\n",
        "    </div>\n",
        "    <div class=\"nrc\">\n",
        "        NRC: 16585\n",
        "    </div>\n",
        "</div>\n",
        "\"\"\"\n",
        "\n",
        "display(HTML(html_content))"
      ],
      "metadata": {
        "colab": {
          "base_uri": "https://localhost:8080/",
          "height": 835
        },
        "id": "UdF76He4vwvD",
        "outputId": "72a98597-5b6b-492e-b7f3-26f7711ddb1e"
      },
      "execution_count": 4,
      "outputs": [
        {
          "output_type": "display_data",
          "data": {
            "text/plain": [
              "<IPython.core.display.HTML object>"
            ],
            "text/html": [
              "\n",
              "<style>\n",
              "@import url('https://fonts.googleapis.com/css2?family=Roboto:wght@300;400;700&display=swap');\n",
              "\n",
              "body {\n",
              "    font-family: 'Roboto', sans-serif;\n",
              "    background-color: #f0f0f0;\n",
              "    color: #333;\n",
              "    line-height: 1.6;\n",
              "}\n",
              ".container {\n",
              "    max-width: 800px;\n",
              "    margin: 20px auto;\n",
              "    background-color: white;\n",
              "    padding: 30px;\n",
              "    border-radius: 15px;\n",
              "    box-shadow: 0 0 20px rgba(0,0,0,0.1);\n",
              "}\n",
              ".header {\n",
              "    text-align: center;\n",
              "    margin-bottom: 30px;\n",
              "}\n",
              ".logo {\n",
              "    max-width: 400px;\n",
              "    margin-bottom: 20px;\n",
              "}\n",
              "h1 {\n",
              "    color: #003366;\n",
              "    font-size: 28px;\n",
              "    margin-bottom: 10px;\n",
              "}\n",
              "h2 {\n",
              "    color: #0055a4;\n",
              "    font-size: 22px;\n",
              "    margin-bottom: 5px;\n",
              "}\n",
              "h3 {\n",
              "    color: #0077be;\n",
              "    font-size: 18px;\n",
              "    margin-bottom: 5px;\n",
              "}\n",
              ".members {\n",
              "    background-color: #f9f9f9;\n",
              "    text-align:center;\n",
              "    padding: 20px;\n",
              "    border-radius: 10px;\n",
              "    margin-top: 20px;\n",
              "}\n",
              ".members h3 {\n",
              "    color: #003366;\n",
              "    border-bottom: 2px solid #003366;\n",
              "    padding-bottom: 5px;\n",
              "    margin-bottom: 15px;\n",
              "}\n",
              "ul {\n",
              "    list-style-type: none;\n",
              "    padding-left: 0;\n",
              "}\n",
              "li {\n",
              "    margin-bottom: 8px;\n",
              "}\n",
              ".nrc {\n",
              "    text-align: center;\n",
              "    font-weight: bold;\n",
              "    margin-top: 20px;\n",
              "    font-size: 18px;\n",
              "    color: #003366;\n",
              "}\n",
              "</style>\n",
              "\n",
              "<div class=\"container\">\n",
              "    <div class=\"header\">\n",
              "        <img src=\"https://www.espe.edu.ec/wp-content/uploads/2018/11/espe.png\" alt=\"ESPE Logo\" class=\"logo\">\n",
              "        <h1>UNIVERSIDAD DE LAS FUERZAS ARMADAS ESPE</h1>\n",
              "        <h2>MÉTODOS NUMÉRICOS</h2>\n",
              "        <h3>FORO ACADÉMICO 1</h3>\n",
              "        <h3>GRUPO 6</h3>\n",
              "    </div>\n",
              "    <div class=\"members\">\n",
              "        <h3>INTEGRANTES:</h3>\n",
              "        <ul>\n",
              "            <li>ALVARADO ALCIVAR ANGIE NICOLE</li>\n",
              "            <li>SAENZ NOGALES FERNANDO DANIEL</li>\n",
              "            <li>BAQUERO LOPEZ FABRICIO FERNANDO</li>\n",
              "            <li>BRAVO MACIAS JAVIER NEICER</li>\n",
              "            <li>ENRIQUEZ MANYA BRYAN ORLANDO</li>\n",
              "            <li>MUÑOS GUALOTUÑA JOSUE NICOLAS</li>\n",
              "        </ul>\n",
              "    </div>\n",
              "    <div class=\"nrc\">\n",
              "        NRC: 16585\n",
              "    </div>\n",
              "</div>\n"
            ]
          },
          "metadata": {}
        }
      ]
    },
    {
      "cell_type": "code",
      "source": [
        "#LIBRERIAS\n",
        "import sympy as sp #libreria de calculo simbolico (x,y,.... z)\n",
        "import numpy as np # arrays, vectores, matrices\n",
        "import matplotlib.pyplot as plt # graficas, representaciones, ciencia de datos\n",
        "import math as mt # Importar el módulo estándar de matemáticas\n",
        "from mpl_toolkits.mplot3d import Axes3D\n",
        "import time"
      ],
      "metadata": {
        "id": "7CvQwfAKgLxU"
      },
      "execution_count": null,
      "outputs": []
    },
    {
      "cell_type": "markdown",
      "source": [
        "# EJERCICIOS A RESOLVER\n",
        "$\\large Ejercicio\\ \\ 4:\\ \\begin{cases}\n",
        "0.04x_{1} \\  & +0.01x_{2} \\  & +\\ 0.01x_{3\\ } & =\\ 0.06\\\\\n",
        "0.2x_{1} \\  & +0.5x_{2} & +\\ 0.2x_{3\\ } & =\\ 0.3\\\\\n",
        "x_{1} \\  & +2x_{2} & +4x_{3} & =11\n",
        "\\end{cases}$\n",
        "\n",
        "$\\large Ejercicio\\ 8:\\ \\begin{cases}\n",
        "sin\\ \\left( x^{2}\\right) & -\\ y & =\\ -2\\\\\n",
        "x^{2} & -y^{2} & =\\ -5\n",
        "\\end{cases}$\n"
      ],
      "metadata": {
        "id": "C-_2ev4_PFmu"
      }
    },
    {
      "cell_type": "markdown",
      "source": [
        "#SISTEMAS DE ECUACIONES LINEALES\n",
        "\n"
      ],
      "metadata": {
        "id": "Wh7CRc-TY7VZ"
      }
    },
    {
      "cell_type": "markdown",
      "source": [
        "## TEORÍA DE ALGEBRA LINEAL PARA SISTEMAS DE ECUACIONES LINEALES\n",
        "\n",
        "Para comprender Álgebra Lineal aplicado a Sistemas de Ecuaciones lineal se deben considerar los siguientes conceptos fundamentales:\n",
        "\n",
        "\\\\\n",
        "##1. Sistema de ecuaciones lineales:\n",
        "Un sistema de ecuaciones lineales es un conjunto de ecuaciones de la forma:\n",
        "\n",
        "$\\large \\begin{matrix}\n",
        "a_{11} x_{1} & +a_{12} x_{2} & +.... & +a_{1n} x_{n} & =b_{1}\\\\\n",
        "a_{21} x_{1} & +a_{22} x_{2} & +.... & +a_{2n} x_{n} & =b_{2}\\\\\n",
        " &  &  & . & \\\\\n",
        " &  &  & . & \\\\\n",
        " &  &  & . & \\\\\n",
        "a_{m1} x_{1} & +a_{m2} x_{2} & +.... & +a_{mn} x_{n} & =b_{n}\n",
        "\\end{matrix}$\n",
        "\n",
        "\\\\\n",
        "##2. Matriz de coeficientes y vector de constantes\n",
        "\n",
        "Un sistema de ecuaciones lineales se puede representar de manera matricial como AX = B, donde:\n",
        "\n",
        "$\\large A=\\begin{pmatrix}\n",
        "a_{11} & a_{12} & ... & a_{1n}\\\\\n",
        "a_{21} & a_{12} & ... & a_{2n}\\\\\n",
        ". & . & . & .\\\\\n",
        ". & . & . & .\\\\\n",
        ". & . & . & .\\\\\n",
        "a_{m1} & a_{m2} & ... & a_{mn}\n",
        "\\end{pmatrix} ,\\ X=\\begin{pmatrix}\n",
        "x_{1}\\\\\n",
        "x_{2}\\\\\n",
        "x_{3}\n",
        "\\end{pmatrix} ,\\ B=\\begin{pmatrix}\n",
        "b_{1}\\\\\n",
        "b_{1}\\\\\n",
        "b_{m}\n",
        "\\end{pmatrix}$\n",
        "\n",
        "\\\\\n",
        "##3. Métodos de resolución\n",
        "\n",
        "Algunos métodos comunes para resolver sistemas de ecuaciones lineales incluyen:\n",
        "\n",
        "\n",
        "\n",
        "*   **Método de eliminación de Gauss**:  Consiste en transformar el sistema en una forma triangular para resolver por sustitución hacia atrás.\n",
        "\n",
        "*   **Método de eliminación de Gauss-Jordan**: Extiende el método de Gauss llevando la matriz a su forma reducida por filas\n",
        "\n",
        "*   **Método de Cramer - determinantes:** Utiliza determinantes para resolver sistemas de n ecuaciones con n incognitas, siempre que el determinante de la matriz de coeficientes sea no nulo; para la resolución del mismo resulta excesivamente costosa: computacionalmente, es ineficiente para grandes matrices y por ello no es usado en aplicaciones prácticas que pueden implicar muchas ecuaciones.\n",
        "\n",
        "*   **Inversa de la matriz:** Si A es invertible, se puede encontrar la solución como $\\large X\\ =\\ A^{-1} B\\ $\n",
        "\n",
        "*   **Método de Montante**: Variación del método de Gauss, evita operaciones con fracciones durante el proceso de eliminación, trabajando en su lugar con números enteros o racionales hasta el final.\n"
      ],
      "metadata": {
        "id": "cHyvYWrhe5dS"
      }
    },
    {
      "cell_type": "markdown",
      "source": [
        "## RESOLUCIÓN ANALÍTICA DEL SISTEMA DE ECUACIONES LINEALES\n",
        "\n",
        "Dado el sistema de ecuaciones lineales:\n",
        "\n",
        "\\\\\n",
        "$\\large Ejercicio\\ \\ 4:\\ \\begin{cases}\n",
        "0.04x_{1} \\  & +0.01x_{2} \\  & +\\ 0.01x_{3\\ } & =\\ 0.06\\\\\n",
        "0.2x_{1} \\  & +0.5x_{2} & +\\ 0.2x_{3\\ } & =\\ 0.3\\\\\n",
        "x_{1} \\  & +2x_{2} & +4x_{3} & =11\n",
        "\\end{cases}$\n",
        "\n",
        "\\\\\n",
        "###1. Representacion matricial:\n",
        "\n",
        "\n",
        "Matriz  coeficientes :  $\\large A=\\begin{pmatrix}\n",
        "0.04 & 0.01 & 0.01\\\\\n",
        "0.2 & 0.5 & 0.2\\\\\n",
        "1 & 2 & 4\n",
        "\\end{pmatrix}$\n",
        "\n",
        "\\\\\n",
        "Vector de incognitas : $\\large X=\\begin{pmatrix}\n",
        "x_{1}\\\\\n",
        "x_{2}\\\\\n",
        "x_{3}\n",
        "\\end{pmatrix}$\n",
        "\n",
        "\\\\\n",
        "Vector de constantes : $\\large B=\\begin{pmatrix}\n",
        "b_{1}\\\\\n",
        "b_{1}\\\\\n",
        "b_{m}\n",
        "\\end{pmatrix}$\n",
        "\n",
        "A continuación se desarrollaran dos de los métodos propuestos para  la resolución analitica del sistema de ecuación lineal propuesto"
      ],
      "metadata": {
        "id": "rnd82cARbBQX"
      }
    },
    {
      "cell_type": "markdown",
      "source": [
        "###Método de eliminación de Gauss\n",
        "\n",
        "Este método transformaa el sistema original en uno más sencillo, del cual se puedan obtener fácilmente las soluciones.\n",
        "Esto se logra convirtiendo la matriz de coeficientes aumentada  del sistema en una matriz triangular superior o una matriz escalonada reducida mediante operaciones fila.\n",
        "Se procede a transformar de decimal a fraccion:\n",
        "\n",
        "\n",
        "Se restará de la Fila 2 la multiplicación de la Fila 1 por 5: $\\large \\ F2\\ =\\ F2\\ -\\ 5F1\\ \\ =\\begin{pmatrix}\n",
        "\\frac{1}{25} & \\frac{1}{100} & \\frac{1}{100} & \\frac{3}{50}\\\\\n",
        "0 & \\frac{9}{20} & \\frac{3}{20} & 0\\\\\n",
        "1 & 2 & 4 & 11\n",
        "\\end{pmatrix}$\n",
        "\n",
        "Se restará de la Fila 3 la multiplicación de la Fila 1 por 25: $\\large \\ F3\\ =F3\\ -\\ 25\\cdot F1\\ =\\begin{pmatrix}\n",
        "\\frac{1}{25} & \\frac{1}{100} & \\frac{1}{100} & \\frac{3}{50}\\\\\n",
        "0 & \\frac{9}{20} & \\frac{3}{20} & 0\\\\\n",
        "0 & \\frac{7}{4} & \\frac{15}{4} & \\frac{19}{2}\n",
        "\\end{pmatrix}$\n",
        "\n",
        "Se restará de la Fila 3 la multiplicación de la Fila 2 por $\\large \\frac{35}{9}$:\n",
        "$\\large \\ F3\\ =\\ F3\\ -\\frac{35}{9} \\cdot F2\\ =\\begin{pmatrix}\n",
        "\\frac{1}{25} & \\frac{1}{100} & \\frac{1}{100} & \\frac{3}{50}\\\\\n",
        "0 & \\frac{9}{20} & \\frac{3}{20} & 0\\\\\n",
        "1 & 0 & \\frac{19}{6} & \\frac{19}{2}\n",
        "\\end{pmatrix}$\n",
        "\n",
        "Nos queda el siguiente sistema de ecuaciones:\n",
        "\n",
        "$\\large \\ \\begin{cases}\n",
        "\\frac{1}{25} x_{1} \\  & +\\frac{1}{100} x_{2} \\  & +\\ \\frac{1}{100} x_{3\\ } & =\\ \\frac{3}{50}\\\\\n",
        "\\  & \\frac{9}{20} x_{2} & +\\ \\frac{3}{20} x_{3\\ } & =\\ 0\\\\\n",
        "\\  &  & \\frac{19}{6} x_{3} & =\\ \\frac{19}{2}\n",
        "\\end{cases}$\n",
        "\n",
        "De la ecuación 3 del sistema encontramos con la variable $\\large x_{3\\ }$:\n",
        "\n",
        "$\\large \\frac{19}{6} \\cdot x_{3} \\ =\\ \\frac{19}{2}$\n",
        "\n",
        "$\\large x_{3} \\ =\\ 3$\n",
        "\n",
        "De la ecuación 2 del sistema encontramos con la variable $\\large x_{2\\ }$:\n",
        "\n",
        "$\\large \\frac{9}{20} \\cdot x_{2} \\ =-\\frac{3}{20} \\cdot x_{3\\ } \\ =-\\frac{3}{20} \\cdot 3\\ =-\\frac{9}{20}$\n",
        "\n",
        "$\\large x_{2} \\ =\\ -1$\n",
        "\n",
        "\n",
        "De la ecuación 1 del sistema encontramos con la variable $\\large x_{1\\ }$:\n",
        "\n",
        "$\\large \\frac{1}{25} x_{1} \\ =\\frac{3}{50} -\\frac{1}{100} x_{2} -\\frac{1}{100} x_{3\\ } \\ =\\frac{3}{50} -\\frac{1}{100} \\cdot ( -1) -\\frac{1}{100} \\cdot ( 3) =\\frac{1}{25}$\n",
        "$\\large x_{1} \\ =\\ -1$\n",
        "\n",
        "Respuesta:\n",
        "\n",
        "$\\large\n",
        "\\begin{equation*}\n",
        "x_{1} \\ =\\ 1\n",
        "\\end{equation*}$\n",
        "\n",
        "$\\large\n",
        "\\begin{equation*}\n",
        "x_{2} \\ =\\ -1\n",
        "\\end{equation*}$\n",
        "\n",
        "$\\large\n",
        "\\begin{equation*}\n",
        "x_{3} \\ =\\ \\ \\ \\ \\ 3\n",
        "\\end{equation*}$\n",
        "\n",
        "\n",
        "La solución general: $\\large X=\\begin{pmatrix}\n",
        "1\\\\\n",
        "-1\\\\\n",
        "3\n",
        "\\end{pmatrix}$\n"
      ],
      "metadata": {
        "id": "RHolYilqStmG"
      }
    },
    {
      "cell_type": "markdown",
      "source": [
        "###Método de regla de Cramer\n",
        "La regla de Cramer se aplica solo a sistemas de *n* ecuaciones lineales con *n* incógnitas, y requiere que la matriz de coeficientes del sistema sea cuadrada y tenga un determinante distinto de cero\n",
        "\n",
        "Dado el sistema de ecuaciones lineales previamente transformado a fracción:\n",
        "\n",
        "\n",
        "$\\large \\ \\begin{cases}\n",
        "\\frac{1}{25} x_{1} \\  & +\\frac{1}{100} x_{2} \\  & +\\ \\frac{1}{100} x_{3\\ } & =\\ \\frac{3}{50}\\\\\n",
        "\\frac{1}{5} x_{1} \\  & +\\frac{1}{2} x_{2} & +\\frac{1}{5} x_{3\\ } & =\\ \\frac{3}{10}\\\\\n",
        "x_{1} \\  & +2x_{2} & +4x_{3} & =11\n",
        "\\end{cases}$\n",
        "\n",
        "Para trabajar Cramer se menciono que la matriz debe ser una matriz cuadrada\n",
        "\n",
        "$\\large \\triangle \\ =\\ \\begin{bmatrix}\n",
        "\\frac{1}{25} & \\frac{1}{100} & \\frac{1}{100}\\\\\n",
        "\\frac{1}{5} & \\frac{1}{2} & \\frac{1}{5}\\\\\n",
        "1 & 2 & 4\n",
        "\\end{bmatrix} \\ =\\frac{1}{25} \\cdot \\left(\\frac{1}{2}\\right) \\cdot 4+\\frac{1}{100} \\cdot \\left(\\frac{1}{5}\\right) \\cdot 2-1\\left(\\frac{1}{2}\\right) \\cdot \\left(\\frac{1}{100}\\right) -2\\cdot \\left(\\frac{1}{5}\\right) \\cdot \\left(\\frac{1}{25}\\right) -4(\\left(\\frac{1}{5}\\right) \\cdot \\left(\\frac{1}{100}\\right) = \\ \\frac{57}{1000}$\n",
        "\n",
        "\n",
        "$\\large \\triangle _{1} \\ =\\ \\begin{bmatrix}\n",
        "\\frac{3}{50} & \\frac{1}{100} & \\frac{1}{100}\\\\\n",
        "\\frac{3}{10} & \\frac{1}{2} & \\frac{1}{5}\\\\\n",
        "11 & 2 & 4\n",
        "\\end{bmatrix} \\ =\\frac{3}{50} \\cdot \\left(\\frac{1}{2}\\right) \\cdot 4+\\frac{1}{100} \\cdot \\left(\\frac{1}{5}\\right) \\cdot 11+\\frac{1}{100} \\cdot \\left(\\frac{3}{10}\\right) \\cdot 2-11\\cdot \\left(\\frac{1}{2}\\right) \\cdot \\frac{1}{100} -2\\left(\\frac{1}{5}\\right) \\cdot \\left(\\frac{3}{50}\\right) -4\\cdot \\left(\\frac{3}{10}\\right) \\cdot \\left(\\frac{1}{100}\\right) = \\ \\frac{57}{1000}$\n",
        "\n",
        "\n",
        "$\\large \\triangle _{2} \\ =\\ \\begin{bmatrix}\n",
        "\\frac{1}{25} & \\frac{3}{50} & \\frac{1}{100}\\\\\n",
        "\\frac{1}{5} & \\frac{3}{10} & \\frac{1}{5}\\\\\n",
        "1 & 11 & 4\n",
        "\\end{bmatrix} \\ =\\frac{1}{25} \\cdot \\left(\\frac{3}{10}\\right) \\cdot 4+\\frac{3}{50} \\cdot \\left(\\frac{1}{5}\\right) \\cdot 1+\\frac{1}{100} \\cdot \\left(\\frac{1}{5}\\right) \\cdot 11-1\\cdot \\left(\\frac{3}{10}\\right) \\cdot \\frac{1}{100} -11\\cdot \\left(\\frac{1}{5}\\right) \\cdot \\left(\\frac{1}{25}\\right) -4\\cdot \\left(\\frac{1}{5}\\right) \\cdot \\left(\\frac{3}{50}\\right) = \\ -\\frac{57}{1000}$\n",
        "\n",
        "\n",
        "$\\large \\triangle _{3} \\ =\\ \\begin{bmatrix}\n",
        "\\frac{1}{25} & \\frac{1}{100} & \\frac{3}{50}\\\\\n",
        "\\frac{1}{5} & \\frac{1}{2} & \\frac{3}{10}\\\\\n",
        "1 & 2 & 11\n",
        "\\end{bmatrix} \\ =\\frac{1}{25} \\cdot \\left(\\frac{1}{2}\\right) \\cdot 11+\\frac{1}{100} \\cdot \\left(\\frac{3}{10}\\right) \\cdot 1+\\frac{3}{50} \\cdot \\left(\\frac{1}{5}\\right) \\cdot 2-1\\cdot \\left(\\frac{1}{2}\\right) \\cdot \\left(\\frac{3}{50}\\right) -2\\cdot \\left(\\frac{3}{10}\\right) \\cdot \\left(\\frac{1}{25}\\right) -11\\cdot \\left(\\frac{1}{5}\\right) \\cdot \\left(\\frac{1}{100}\\right) = \\ \\frac{57}{1000}$\n",
        "\n",
        "\n",
        "$\\large x_{1} \\ =\\ \\frac{\\triangle_{1}}{\\triangle } \\ =\\frac{\\frac{57}{1000}}{\\frac{57}{1000}} =1$\n",
        "\n",
        "\n",
        "\n",
        "$\\large x_{2} \\ =\\ \\frac{\\triangle _{2}}{\\triangle } \\ =\\frac{-\\frac{57}{1000}}{\\frac{57}{1000}} =\\ -1$\n",
        "\n",
        "\n",
        "$\\large x_{3} \\ =\\ \\frac{\\triangle _{3}}{\\triangle } \\ =\\frac{\\frac{171}{1000}}{\\frac{57}{1000}} =3$\n",
        "\n",
        "$\\large Resultado:\\ \\ \\ \\begin{matrix}\n",
        "x_{1} & =1\\\\\n",
        "x_{2} & =-1\\\\\n",
        "x_{3} & =3\n",
        "\\end{matrix}$\n"
      ],
      "metadata": {
        "id": "8aknH9YUQ4z2"
      }
    },
    {
      "cell_type": "markdown",
      "source": [
        "##IMPLEMENTACIÓN DE LOS MÉTODOS NUMÉRICOS PARA RESOLVER EL SISTEMA DE ECUACIONES LINEALES (ELIMINACIÓN GAUSSIANA Y TÉCNICAS DE PIVOTEO)"
      ],
      "metadata": {
        "id": "p0i2YOuGk96e"
      }
    },
    {
      "cell_type": "markdown",
      "source": [
        "Algoritmo de eliminación gaussiana."
      ],
      "metadata": {
        "id": "ZQ9JIuwiqzs8"
      }
    },
    {
      "cell_type": "code",
      "source": [
        "# Definir la matriz aumentada\n",
        "# La matriz A incluye tanto los coeficientes del sistema de ecuaciones lineales como los términos independientes en la última columna\n",
        "A = np.array([\n",
        "    [0.04, 0.01, 0.01, 0.06],  # Primera ecuación: 0.04x1 + 0.01x2 + 0.01x3 = 0.06\n",
        "    [0.2, 0.5, 0.2, 0.3],      # Segunda ecuación: 0.2x1 + 0.5x2 - 0.2x3 = 0.3\n",
        "    [1, 2, 4, 11]             # Tercera ecuación: 1x1 + 2x2 + 4x3 = 11\n",
        "], dtype=float)\n",
        "\n",
        "# Número de filas\n",
        "# Aquí se obtiene el número de filas de la matriz A, que corresponde al número de ecuaciones\n",
        "n = A.shape[0]\n",
        "\n",
        "# Eliminación Gaussiana\n",
        "# Este bucle convierte la matriz A en una matriz triangular superior\n",
        "for i in range(n):\n",
        "    # Hacer el pivote igual a 1\n",
        "    # Divide toda la fila i por el elemento A[i, i] para hacer que el pivote (elemento diagonal) sea 1\n",
        "    A[i] = A[i] / A[i, i]\n",
        "\n",
        "    # Hacer ceros abajo del pivote\n",
        "    # Este bucle hace que todos los elementos debajo del pivote en la columna i sean cero\n",
        "    for j in range(i+1, n):\n",
        "        # Resta de la fila j la fila i multiplicada por A[j, i] para eliminar el término A[j, i]\n",
        "        A[j] = A[j] - A[j, i] * A[i]\n",
        "\n",
        "# Sustitución hacia atrás\n",
        "# Este bucle resuelve el sistema de ecuaciones mediante sustitución hacia atrás\n",
        "x = np.zeros(n)  # Inicializa el vector de soluciones con ceros\n",
        "for i in range(n-1, -1, -1):\n",
        "    # Calcula el valor de la variable x[i]\n",
        "    # Restando la suma de los productos de los elementos de la fila i y las soluciones encontradas previamente\n",
        "    x[i] = A[i, -1] - np.sum(A[i, i+1:n] * x[i+1:n])\n",
        "\n",
        "# Imprime la solución del sistema\n",
        "print(\"La solución del sistema es:\", x)"
      ],
      "metadata": {
        "colab": {
          "base_uri": "https://localhost:8080/"
        },
        "id": "FwpnxWyHg9R_",
        "outputId": "8e65126d-0bda-46ae-891b-0aa28014672b"
      },
      "execution_count": null,
      "outputs": [
        {
          "output_type": "stream",
          "name": "stdout",
          "text": [
            "La solución del sistema es: [ 1. -1.  3.]\n"
          ]
        }
      ]
    },
    {
      "cell_type": "markdown",
      "source": [
        "PIVOTEO PARCIAL"
      ],
      "metadata": {
        "id": "z_NWZBn1q9tV"
      }
    },
    {
      "cell_type": "code",
      "source": [
        "# Definir la matriz aumentada\n",
        "# Se define la matriz A con los coeficientes de las ecuaciones y los términos independientes en la última columna.\n",
        "A = np.array([\n",
        "    [0.04, 0.01, 0.01, 0.06],  # Primera ecuación: 0.04x1 + 0.01x2 + 0.01x3 = 0.06\n",
        "    [0.2, 0.5, 0.2, 0.3],     # Segunda ecuación: 0.2x1 + 0.5x2 - 0.2x3 = 0.3\n",
        "    [1, 2, 4, 11]              # Tercera ecuación: 1x1 + 2x2 + 4x3 = 11\n",
        "], dtype=float)\n",
        "\n",
        "# Número de filas\n",
        "# Se obtiene el número de filas de la matriz A, que corresponde al número de ecuaciones.\n",
        "n = A.shape[0]\n",
        "\n",
        "# Eliminación Gaussiana con Pivoteo Parcial\n",
        "# Este bucle convierte la matriz A en una matriz triangular superior utilizando pivoteo parcial.\n",
        "for i in range(n):\n",
        "    # Encontrar el índice del mayor elemento en valor absoluto en la columna i desde la fila i hasta la última.\n",
        "    max_row = np.argmax(np.abs(A[i:n, i])) + i\n",
        "    # Intercambiar la fila i con la fila del mayor elemento encontrado para poner el mayor pivote posible en la posición actual.\n",
        "    A[[i, max_row]] = A[[max_row, i]]\n",
        "\n",
        "    # Hacer el pivote igual a 1\n",
        "    # Dividir toda la fila i por el elemento A[i, i] para normalizar el pivote a 1.\n",
        "    A[i] = A[i] / A[i, i]\n",
        "\n",
        "    # Hacer ceros abajo del pivote\n",
        "    # Este bucle hace que todos los elementos debajo del pivote en la columna i sean cero.\n",
        "    for j in range(i+1, n):\n",
        "        # Restar de la fila j la fila i multiplicada por A[j, i] para eliminar el término A[j, i].\n",
        "        A[j] = A[j] - A[j, i] * A[i]\n",
        "\n",
        "# Sustitución hacia atrás\n",
        "# Este bucle resuelve el sistema de ecuaciones mediante sustitución hacia atrás.\n",
        "x = np.zeros(n)  # Inicializa el vector de soluciones con ceros.\n",
        "for i in range(n-1, -1, -1):\n",
        "    # Calcula el valor de la variable x[i].\n",
        "    # Restando la suma de los productos de los elementos de la fila i y las soluciones encontradas previamente.\n",
        "    x[i] = A[i, -1] - np.sum(A[i, i+1:n] * x[i+1:n])\n",
        "\n",
        "# Imprime la solución del sistema con pivoteo parcial.\n",
        "print(\"Solución con pivoteo parcial:\", x)"
      ],
      "metadata": {
        "colab": {
          "base_uri": "https://localhost:8080/"
        },
        "id": "cucWIQKEocZ7",
        "outputId": "15823580-4554-4a1d-a4fe-f7cd72b22b5a"
      },
      "execution_count": null,
      "outputs": [
        {
          "output_type": "stream",
          "name": "stdout",
          "text": [
            "Solución con pivoteo parcial: [ 1. -1.  3.]\n"
          ]
        }
      ]
    },
    {
      "cell_type": "markdown",
      "source": [
        "PIVOTEO TOTAL"
      ],
      "metadata": {
        "id": "OFAiJ8tgrAWt"
      }
    },
    {
      "cell_type": "code",
      "source": [
        "# Definir la matriz aumentada\n",
        "# Se define la matriz A con los coeficientes de las ecuaciones y los términos independientes en la última columna.\n",
        "A = np.array([\n",
        "    [0.04, 0.01, 0.01, 0.06],  # Primera ecuación: 0.04x1 + 0.01x2 + 0.01x3 = 0.06\n",
        "    [0.2, 0.5, 0.2, 0.3],     # Segunda ecuación: 0.2x1 + 0.5x2 - 0.2x3 = 0.3\n",
        "    [1, 2, 4, 11]              # Tercera ecuación: 1x1 + 2x2 + 4x3 = 11\n",
        "], dtype=float)\n",
        "\n",
        "# Número de filas\n",
        "# Se obtiene el número de filas de la matriz A, que corresponde al número de ecuaciones.\n",
        "n = A.shape[0]\n",
        "\n",
        "# Eliminación Gaussiana con Pivoteo Total\n",
        "# Este bucle convierte la matriz A en una matriz triangular superior utilizando pivoteo total.\n",
        "for i in range(n):\n",
        "    # Encontrar el índice del mayor elemento en valor absoluto en la submatriz A[i:n, i:n].\n",
        "    max_row, max_col = np.unravel_index(np.argmax(np.abs(A[i:n, i:n])), (n-i, n-i))\n",
        "    max_row += i  # Ajustar el índice de la fila para la submatriz actual.\n",
        "    max_col += i  # Ajustar el índice de la columna para la submatriz actual.\n",
        "\n",
        "    # Intercambiar la fila i con la fila del mayor elemento encontrado.\n",
        "    A[[i, max_row]] = A[[max_row, i]]\n",
        "    # Intercambiar la columna i con la columna del mayor elemento encontrado.\n",
        "    A[:, [i, max_col]] = A[:, [max_col, i]]\n",
        "\n",
        "    # Hacer el pivote igual a 1\n",
        "    # Dividir toda la fila i por el elemento A[i, i] para normalizar el pivote a 1.\n",
        "    A[i] = A[i] / A[i, i]\n",
        "\n",
        "    # Hacer ceros abajo del pivote\n",
        "    # Este bucle hace que todos los elementos debajo del pivote en la columna i sean cero.\n",
        "    for j in range(i+1, n):\n",
        "        # Restar de la fila j la fila i multiplicada por A[j, i] para eliminar el término A[j, i].\n",
        "        A[j] = A[j] - A[j, i] * A[i]\n",
        "\n",
        "# Sustitución hacia atrás\n",
        "# Este bucle resuelve el sistema de ecuaciones mediante sustitución hacia atrás.\n",
        "x = np.zeros(n)  # Inicializa el vector de soluciones con ceros.\n",
        "for i in range(n-1, -1, -1):\n",
        "    # Calcula el valor de la variable x[i].\n",
        "    # Restando la suma de los productos de los elementos de la fila i y las soluciones encontradas previamente.\n",
        "    x[i] = A[i, -1] - np.sum(A[i, i+1:n] * x[i+1:n])\n",
        "\n",
        "# Imprime la solución del sistema con pivoteo total.\n",
        "print(\"Solución con pivoteo total:\", x)"
      ],
      "metadata": {
        "colab": {
          "base_uri": "https://localhost:8080/"
        },
        "id": "MulqoMXqpA1T",
        "outputId": "fb7d90c8-10a9-4344-b136-9b772f0df6fc"
      },
      "execution_count": null,
      "outputs": [
        {
          "output_type": "stream",
          "name": "stdout",
          "text": [
            "Solución con pivoteo total: [ 3. -1.  1.]\n"
          ]
        }
      ]
    },
    {
      "cell_type": "markdown",
      "source": [
        "PIVOTEO ESCALONADO"
      ],
      "metadata": {
        "id": "1wQZtk6FrEAl"
      }
    },
    {
      "cell_type": "code",
      "source": [
        "# Definir la matriz aumentada\n",
        "# La matriz A incluye tanto los coeficientes del sistema de ecuaciones lineales como los términos independientes en la última columna\n",
        "A = np.array([\n",
        "    [0.04, 0.01, 0.01, 0.06],  # Primera ecuación: 0.04x1 + 0.01x2 + 0.01x3 = 0.06\n",
        "    [0.2, 0.5, 0.2, 0.3],     # Segunda ecuación: 0.2x1 + 0.5x2 - 0.2x3 = 0.3\n",
        "    [1, 2, 4, 11]              # Tercera ecuación: 1x1 + 2x2 + 4x3 = 11\n",
        "], dtype=float)\n",
        "\n",
        "# Número de filas\n",
        "# Aquí se obtiene el número de filas de la matriz A, que corresponde al número de ecuaciones\n",
        "n = A.shape[0]\n",
        "\n",
        "# Eliminación Gaussiana con Pivoteo Escalonado\n",
        "# Este bucle convierte la matriz A en una matriz triangular superior con pivoteo escalonado\n",
        "for i in range(n):\n",
        "    # Encontrar el índice del mayor elemento en valor absoluto escalado por el valor máximo de la fila\n",
        "    # Se utiliza para encontrar el mayor pivote posible, teniendo en cuenta la escala de los elementos de la fila\n",
        "    scale = np.max(np.abs(A[i:n, :]), axis=1)\n",
        "    max_row = np.argmax(np.abs(A[i:n, i]) / scale) + i\n",
        "\n",
        "    # Intercambiar la fila i con la fila del mayor elemento escalado encontrado\n",
        "    # Se intercambian las filas para mover el mayor elemento escalado a la posición del pivote\n",
        "    A[[i, max_row]] = A[[max_row, i]]\n",
        "\n",
        "    # Hacer el pivote igual a 1\n",
        "    # Divide toda la fila i por el elemento A[i, i] para normalizar el pivote a 1\n",
        "    A[i] = A[i] / A[i, i]\n",
        "\n",
        "    # Hacer ceros abajo del pivote\n",
        "    # Este bucle hace que todos los elementos debajo del pivote en la columna i sean cero\n",
        "    for j in range(i+1, n):\n",
        "        # Resta de la fila j la fila i multiplicada por A[j, i] para eliminar el término A[j, i]\n",
        "        A[j] = A[j] - A[j, i] * A[i]\n",
        "\n",
        "# Sustitución hacia atrás\n",
        "# Este bucle resuelve el sistema de ecuaciones mediante sustitución hacia atrás\n",
        "x = np.zeros(n)  # Inicializa el vector de soluciones con ceros\n",
        "for i in range(n-1, -1, -1):\n",
        "    # Calcula el valor de la variable x[i]\n",
        "    # Restando la suma de los productos de los elementos de la fila i y las soluciones encontradas previamente\n",
        "    x[i] = A[i, -1] - np.sum(A[i, i+1:n] * x[i+1:n])\n",
        "\n",
        "# Imprime la solución del sistema con pivoteo escalonado\n",
        "print(\"Solución con pivoteo escalonado:\", x)"
      ],
      "metadata": {
        "colab": {
          "base_uri": "https://localhost:8080/"
        },
        "id": "75YV49BEpI9o",
        "outputId": "02ce6e4c-4b4b-48e8-d326-288f860665a8"
      },
      "execution_count": null,
      "outputs": [
        {
          "output_type": "stream",
          "name": "stdout",
          "text": [
            "Solución con pivoteo escalonado: [ 1. -1.  3.]\n"
          ]
        }
      ]
    },
    {
      "cell_type": "markdown",
      "source": [
        "\\NÚMERO DE OPERACIONES Y TIEMPO DE EJECUCIÓN DE CADA TIPO DE PIVOTEO"
      ],
      "metadata": {
        "id": "eWpqMb6krHqt"
      }
    },
    {
      "cell_type": "code",
      "source": [
        "# Función para pivoteo parcial\n",
        "def gaussian_elimination_partial(A):\n",
        "    n = A.shape[0]  # Número de filas de la matriz\n",
        "    start_time = time.time()  # Registrar el tiempo de inicio\n",
        "    operations = 0  # Contador de operaciones\n",
        "\n",
        "    for i in range(n):\n",
        "        # Encontrar el índice de la fila con el mayor elemento en valor absoluto en la columna i desde la fila i hasta la última\n",
        "        max_row = np.argmax(np.abs(A[i:n, i])) + i\n",
        "        # Intercambiar la fila i con la fila del mayor elemento encontrado\n",
        "        A[[i, max_row]] = A[[max_row, i]]\n",
        "        # Dividir toda la fila i por el elemento A[i, i] para normalizar el pivote a 1\n",
        "        A[i] = A[i] / A[i, i]\n",
        "        operations += 2 * (n - i)  # Contar las operaciones de división\n",
        "\n",
        "        for j in range(i+1, n):\n",
        "            # Hacer ceros abajo del pivote restando de la fila j la fila i multiplicada por A[j, i]\n",
        "            A[j] = A[j] - A[j, i] * A[i]\n",
        "            operations += 2 * (n - i)  # Contar las operaciones de eliminación\n",
        "\n",
        "    x = np.zeros(n)  # Inicializar el vector de soluciones con ceros\n",
        "    for i in range(n-1, -1, -1):\n",
        "        # Sustitución hacia atrás para encontrar la solución\n",
        "        x[i] = A[i, -1] - np.sum(A[i, i+1:n] * x[i+1:n])\n",
        "        operations += n - i  # Contar las operaciones de sustitución\n",
        "\n",
        "    end_time = time.time()  # Registrar el tiempo de finalización\n",
        "    return x, operations, end_time - start_time  # Devolver la solución, número de operaciones y tiempo de ejecución\n",
        "\n",
        "# Función para pivoteo total\n",
        "def gaussian_elimination_total(A):\n",
        "    n = A.shape[0]  # Número de filas de la matriz\n",
        "    start_time = time.time()  # Registrar el tiempo de inicio\n",
        "    operations = 0  # Contador de operaciones\n",
        "\n",
        "    for i in range(n):\n",
        "        # Encontrar el índice del mayor elemento en valor absoluto en el submatriz A[i:n, i:n]\n",
        "        max_row, max_col = np.unravel_index(np.argmax(np.abs(A[i:n, i:n])), (n-i, n-i))\n",
        "        max_row += i\n",
        "        max_col += i\n",
        "        # Intercambiar la fila i con la fila del mayor elemento encontrado\n",
        "        A[[i, max_row]] = A[[max_row, i]]\n",
        "        # Intercambiar la columna i con la columna del mayor elemento encontrado\n",
        "        A[:, [i, max_col]] = A[:, [max_col, i]]\n",
        "        # Dividir toda la fila i por el elemento A[i, i] para normalizar el pivote a 1\n",
        "        A[i] = A[i] / A[i, i]\n",
        "        operations += 2 * (n - i)  # Contar las operaciones de división\n",
        "\n",
        "        for j in range(i+1, n):\n",
        "            # Hacer ceros abajo del pivote restando de la fila j la fila i multiplicada por A[j, i]\n",
        "            A[j] = A[j] - A[j, i] * A[i]\n",
        "            operations += 2 * (n - i)  # Contar las operaciones de eliminación\n",
        "\n",
        "    x = np.zeros(n)  # Inicializar el vector de soluciones con ceros\n",
        "    for i in range(n-1, -1, -1):\n",
        "        # Sustitución hacia atrás para encontrar la solución\n",
        "        x[i] = A[i, -1] - np.sum(A[i, i+1:n] * x[i+1:n])\n",
        "        operations += n - i  # Contar las operaciones de sustitución\n",
        "\n",
        "    end_time = time.time()  # Registrar el tiempo de finalización\n",
        "    return x, operations, end_time - start_time  # Devolver la solución, número de operaciones y tiempo de ejecución\n",
        "\n",
        "# Función para pivoteo escalonado\n",
        "def gaussian_elimination_scaled(A):\n",
        "    n = A.shape[0]  # Número de filas de la matriz\n",
        "    start_time = time.time()  # Registrar el tiempo de inicio\n",
        "    operations = 0  # Contador de operaciones\n",
        "\n",
        "    for i in range(n):\n",
        "        # Encontrar el índice del mayor elemento en valor absoluto escalado por el valor máximo de la fila\n",
        "        scale = np.max(np.abs(A[i:n, :]), axis=1)\n",
        "        max_row = np.argmax(np.abs(A[i:n, i]) / scale) + i\n",
        "        # Intercambiar la fila i con la fila del mayor elemento escalado encontrado\n",
        "        A[[i, max_row]] = A[[max_row, i]]\n",
        "        # Dividir toda la fila i por el elemento A[i, i] para normalizar el pivote a 1\n",
        "        A[i] = A[i] / A[i, i]\n",
        "        operations += 2 * (n - i)  # Contar las operaciones de división\n",
        "\n",
        "        for j in range(i+1, n):\n",
        "            # Hacer ceros abajo del pivote restando de la fila j la fila i multiplicada por A[j, i]\n",
        "            A[j] = A[j] - A[j, i] * A[i]\n",
        "            operations += 2 * (n - i)  # Contar las operaciones de eliminación\n",
        "\n",
        "    x = np.zeros(n)  # Inicializar el vector de soluciones con ceros\n",
        "    for i in range(n-1, -1, -1):\n",
        "        # Sustitución hacia atrás para encontrar la solución\n",
        "        x[i] = A[i, -1] - np.sum(A[i, i+1:n] * x[i+1:n])\n",
        "        operations += n - i  # Contar las operaciones de sustitución\n",
        "\n",
        "    end_time = time.time()  # Registrar el tiempo de finalización\n",
        "    return x, operations, end_time - start_time  # Devolver la solución, número de operaciones y tiempo de ejecución\n",
        "\n",
        "# Definir la matriz aumentada\n",
        "A = np.array([\n",
        "    [0.04, 0.01, 0.01, 0.06],  # Primera ecuación: 0.04x1 + 0.01x2 + 0.01x3 = 0.06\n",
        "    [0.2, 0.5, 0.2, 0.3],     # Segunda ecuación: 0.2x1 + 0.5x2 - 0.2x3 = 0.3\n",
        "    [1, 2, 4, 11]              # Tercera ecuación: 1x1 + 2x2 + 4x3 = 11\n",
        "], dtype=float)\n",
        "\n",
        "# Ejecutar los algoritmos y mostrar resultados\n",
        "print(\"Pivoteo Parcial\")\n",
        "x_partial, operations_partial, time_partial = gaussian_elimination_partial(A.copy())\n",
        "print(\"Solución:\", x_partial)  # Imprimir la solución del sistema con pivoteo parcial\n",
        "print(\"Operaciones:\", operations_partial)  # Imprimir el número de operaciones realizadas\n",
        "print(\"Tiempo:\", time_partial, \"segundos\\n\")  # Imprimir el tiempo de ejecución\n",
        "\n",
        "print(\"Pivoteo Total\")\n",
        "x_total, operations_total, time_total = gaussian_elimination_total(A.copy())\n",
        "print(\"Solución:\", x_total)  # Imprimir la solución del sistema con pivoteo total\n",
        "print(\"Operaciones:\", operations_total)  # Imprimir el número de operaciones realizadas\n",
        "print(\"Tiempo:\", time_total, \"segundos\\n\")  # Imprimir el tiempo de ejecución\n",
        "\n",
        "print(\"Pivoteo Escalonado\")\n",
        "x_scaled, operations_scaled, time_scaled = gaussian_elimination_scaled(A.copy())\n",
        "print(\"Solución:\", x_scaled)  # Imprimir la solución del sistema con pivoteo escalonado\n",
        "print(\"Operaciones:\", operations_scaled)  # Imprimir el número de operaciones realizadas\n",
        "print(\"Tiempo:\", time_scaled, \"segundos\\n\")  # Imprimir el tiempo de ejecución"
      ],
      "metadata": {
        "colab": {
          "base_uri": "https://localhost:8080/"
        },
        "id": "ebRww9e3ppMj",
        "outputId": "4a091706-3dc3-4969-d21d-4a57ff684bb0"
      },
      "execution_count": null,
      "outputs": [
        {
          "output_type": "stream",
          "name": "stdout",
          "text": [
            "Pivoteo Parcial\n",
            "Solución: [ 1. -1.  3.]\n",
            "Operaciones: 34\n",
            "Tiempo: 0.0002562999725341797 segundos\n",
            "\n",
            "Pivoteo Total\n",
            "Solución: [ 3. -1.  1.]\n",
            "Operaciones: 34\n",
            "Tiempo: 0.00048613548278808594 segundos\n",
            "\n",
            "Pivoteo Escalonado\n",
            "Solución: [ 1. -1.  3.]\n",
            "Operaciones: 34\n",
            "Tiempo: 0.00032138824462890625 segundos\n",
            "\n"
          ]
        }
      ]
    },
    {
      "cell_type": "markdown",
      "source": [
        "##RESOLUCIÓN NUMÉRICA DEL SISTEMA DE ECUACIONES LINEALES CON TODAS LAS ESTRATEGIAS DEL PIVOTEO"
      ],
      "metadata": {
        "id": "xht0LREflpeP"
      }
    },
    {
      "cell_type": "markdown",
      "source": [
        "**DEFINICIÓN DEL SISTEMA DE ECUACIONES**\n",
        "\n",
        "\n"
      ],
      "metadata": {
        "id": "-FNagCNVFyES"
      }
    },
    {
      "cell_type": "code",
      "source": [
        "# Definir la matriz aumentada\n",
        "A = np.array([\n",
        "    [0.04, 0.01, 0.01, 0.06],  # Primera ecuación: 0.04x1 + 0.01x2 + 0.01x3 = 0.06\n",
        "    [0.2, 0.5, 0.2, 0.3],      # Segunda ecuación: 0.2x1 + 0.5x2 - 0.2x3 = 0.3\n",
        "    [1, 2, 4, 11]              # Tercera ecuación: 1x1 + 2x2 + 4x3 = 11\n",
        "], dtype=float)\n"
      ],
      "metadata": {
        "id": "0-uRIB0x-LE7"
      },
      "execution_count": null,
      "outputs": []
    },
    {
      "cell_type": "markdown",
      "source": [
        "**FUNCION PARA MEDIR RENDIMIENTO**\n"
      ],
      "metadata": {
        "id": "l6hDZLJiHsGV"
      }
    },
    {
      "cell_type": "code",
      "source": [
        "import time\n",
        "\n",
        "def medir_rendimiento(func, A):\n",
        "    \"\"\"\n",
        "    Mide el rendimiento de una función de resolución de sistemas de ecuaciones lineales.\n",
        "\n",
        "    Parámetros:\n",
        "    func (function): La función que resuelve el sistema de ecuaciones. Debe aceptar una matriz como argumento y devolver una tupla (solución, número de operaciones).\n",
        "    A (list or numpy array): La matriz de coeficientes del sistema de ecuaciones lineales.\n",
        "\n",
        "    Retorna:\n",
        "    tuple: Una tupla que contiene la solución del sistema, el número de operaciones realizadas y el tiempo de ejecución en segundos.\n",
        "    \"\"\"\n",
        "\n",
        "    # Guardar el tiempo de inicio\n",
        "    start_time = time.time()\n",
        "\n",
        "    # Ejecutar la función de resolución de sistemas de ecuaciones con una copia de la matriz A\n",
        "    # y obtener la solución y el número de operaciones realizadas\n",
        "    x, operaciones = func(A.copy())\n",
        "\n",
        "    # Guardar el tiempo de finalización\n",
        "    end_time = time.time()\n",
        "\n",
        "    # Calcular el tiempo de ejecución\n",
        "    tiempo_ejecucion = end_time - start_time\n",
        "\n",
        "    # Devolver la solución, el número de operaciones y el tiempo de ejecución\n",
        "    return x, operaciones, tiempo_ejecucion\n"
      ],
      "metadata": {
        "id": "dkzP2CPAHv1P"
      },
      "execution_count": null,
      "outputs": []
    },
    {
      "cell_type": "markdown",
      "source": [
        "**Algoritmo de eliminación Gaussiana: Sin Pivote**"
      ],
      "metadata": {
        "id": "uwhNC5wgIxbE"
      }
    },
    {
      "cell_type": "code",
      "source": [
        "import numpy as np\n",
        "import time\n",
        "\n",
        "def gaussian_elimination(A):\n",
        "    n = A.shape[0]\n",
        "    start_time = time.time()\n",
        "    operations = 0\n",
        "\n",
        "    for i in range(n):\n",
        "        A[i] = A[i] / A[i, i]\n",
        "        operations += 2 * (n - i)\n",
        "        for j in range(i + 1, n):\n",
        "            A[j] = A[j] - A[j, i] * A[i]\n",
        "            operations += 2 * (n - i)\n",
        "\n",
        "    x = np.zeros(n)\n",
        "    for i in range(n - 1, -1, -1):\n",
        "        x[i] = A[i, -1] - np.sum(A[i, i + 1:n] * x[i + 1:n])\n",
        "        operations += n - i\n",
        "\n",
        "    end_time = time.time()\n",
        "    exec_time = end_time - start_time\n",
        "    return x, operations, exec_time\n",
        "\n",
        "# Ejemplo de uso con la misma matriz A\n",
        "A = np.array([\n",
        "    [0.04, 0.01, 0.01, 0.06],  # Primera ecuación: 0.04x1 + 0.01x2 + 0.01x3 = 0.06\n",
        "    [0.2, 0.5, 0.2, 0.3],      # Segunda ecuación: 0.2x1 + 0.5x2 - 0.2x3 = 0.3\n",
        "    [1, 2, 4, 11]              # Tercera ecuación: 1x1 + 2x2 + 4x3 = 11\n",
        "], dtype=float)\n",
        "\n",
        "# Llamar a la función y obtener resultados\n",
        "x, operations, time_elapsed = gaussian_elimination(A.copy())\n",
        "\n",
        "# Imprimir los resultados\n",
        "print(\"Sin pivoteo - Solución:\", x)\n",
        "print(\"Operaciones:\", operations)\n",
        "print(\"Tiempo:\", time_elapsed, \"segundos\\n\")\n"
      ],
      "metadata": {
        "id": "AEk3F4M9JINS",
        "colab": {
          "base_uri": "https://localhost:8080/"
        },
        "outputId": "5342f8ac-613a-46dd-ee65-8a76ee646662"
      },
      "execution_count": null,
      "outputs": [
        {
          "output_type": "stream",
          "name": "stdout",
          "text": [
            "Sin pivoteo - Solución: [ 1. -1.  3.]\n",
            "Operaciones: 34\n",
            "Tiempo: 0.0001590251922607422 segundos\n",
            "\n"
          ]
        }
      ]
    },
    {
      "cell_type": "markdown",
      "source": [
        "**Algoritmo de eliminación Gaussiana: Pivoteo Parcial**"
      ],
      "metadata": {
        "id": "w2znQMWOKJ7K"
      }
    },
    {
      "cell_type": "code",
      "source": [
        "def gaussian_elimination_partial(A):\n",
        "    \"\"\"\n",
        "    Realiza la eliminación gaussiana con pivoteo parcial en la matriz A.\n",
        "\n",
        "    Parámetros:\n",
        "    A (numpy array): Matriz aumentada del sistema de ecuaciones lineales.\n",
        "\n",
        "    Retorna:\n",
        "    tuple: Una tupla que contiene la solución del sistema, el número de operaciones realizadas y el tiempo de ejecución en segundos.\n",
        "    \"\"\"\n",
        "\n",
        "    n = A.shape[0]  # Número de filas en la matriz A\n",
        "    start_time = time.time()  # Guardar el tiempo de inicio\n",
        "    operations = 0  # Inicializar contador de operaciones\n",
        "\n",
        "    # Eliminación Gaussiana con pivoteo parcial\n",
        "    for i in range(n):\n",
        "        # Encontrar el índice del máximo en valor absoluto en la columna i desde la fila i hasta la última\n",
        "        max_row = np.argmax(np.abs(A[i:n, i])) + i\n",
        "\n",
        "        # Intercambiar filas i y max_row\n",
        "        A[[i, max_row]] = A[[max_row, i]]\n",
        "        operations += 2 * n  # Contar operaciones de intercambio de filas\n",
        "\n",
        "        # Normalizar la fila i para hacer el pivote igual a 1\n",
        "        pivot = A[i, i]\n",
        "        A[i] /= pivot\n",
        "        operations += n  # Contar operaciones de la normalización\n",
        "\n",
        "        # Eliminar elementos debajo del pivote en la columna i\n",
        "        for j in range(i + 1, n):\n",
        "            factor = A[j, i]\n",
        "            A[j] -= factor * A[i]\n",
        "            operations += n  # Contar operaciones de la eliminación\n",
        "\n",
        "    # Sustitución hacia atrás\n",
        "    x = np.zeros(n)  # Inicializar vector de solución\n",
        "    for i in range(n - 1, -1, -1):\n",
        "        # Calcular el valor de x[i] usando los valores ya calculados de x[i+1] a x[n-1]\n",
        "        x[i] = A[i, -1] - np.sum(A[i, i + 1:n] * x[i + 1:n])\n",
        "        operations += n  # Contar operaciones de la sustitución\n",
        "\n",
        "    end_time = time.time()  # Guardar el tiempo de finalización\n",
        "\n",
        "    # Devolver la solución, el número de operaciones y el tiempo de ejecución\n",
        "    return x, operations, end_time - start_time\n",
        "\n",
        "# Ejemplo de uso con la misma matriz A\n",
        "A = np.array([\n",
        "    [0.04, 0.01, 0.01, 0.06],  # Primera ecuación: 0.04x1 + 0.01x2 + 0.01x3 = 0.06\n",
        "    [0.2, 0.5, 0.2, 0.3],      # Segunda ecuación: 0.2x1 + 0.5x2 - 0.2x3 = 0.3\n",
        "    [1, 2, 4, 11]              # Tercera ecuación: 1x1 + 2x2 + 4x3 = 11\n",
        "], dtype=float)\n",
        "\n",
        "# Llamar a la función y obtener resultados\n",
        "x_partial, operations_partial, time_partial = gaussian_elimination_partial(A.copy())\n",
        "\n",
        "# Imprimir los resultados fuera de la función\n",
        "print(\"Pivoteo Parcial - Solución:\", x_partial)\n",
        "print(\"Operaciones:\", operations_partial)\n",
        "print(\"Tiempo:\", time_partial, \"segundos\\n\")\n"
      ],
      "metadata": {
        "id": "GQN33zxHKIzp",
        "colab": {
          "base_uri": "https://localhost:8080/"
        },
        "outputId": "eb98351f-b028-4ee7-f7bc-3bf833edc5d2"
      },
      "execution_count": null,
      "outputs": [
        {
          "output_type": "stream",
          "name": "stdout",
          "text": [
            "Pivoteo Parcial - Solución: [ 1. -1.  3.]\n",
            "Operaciones: 45\n",
            "Tiempo: 0.0003867149353027344 segundos\n",
            "\n"
          ]
        }
      ]
    },
    {
      "cell_type": "markdown",
      "source": [
        "**Algoritmo de eliminación Gaussiana: Pivoteo Total**"
      ],
      "metadata": {
        "id": "_kC81CfJPBs8"
      }
    },
    {
      "cell_type": "code",
      "source": [
        "def gaussian_elimination_total(A):\n",
        "    n = A.shape[0]\n",
        "    start_time = time.time()\n",
        "    operations = 0\n",
        "\n",
        "    for i in range(n):\n",
        "        max_row, max_col = np.unravel_index(np.argmax(np.abs(A[i:n, i:n])), (n-i, n-i))\n",
        "        max_row += i\n",
        "        max_col += i\n",
        "        A[[i, max_row]] = A[[max_row, i]]\n",
        "        A[:, [i, max_col]] = A[:, [max_col, i]]\n",
        "        A[i] = A[i] / A[i, i]\n",
        "        operations += 2 * (n - i)\n",
        "\n",
        "        for j in range(i+1, n):\n",
        "            A[j] = A[j] - A[j, i] * A[i]\n",
        "            operations += 2 * (n - i)\n",
        "\n",
        "    x = np.zeros(n)\n",
        "    for i in range(n-1, -1, -1):\n",
        "        x[i] = A[i, -1] - np.sum(A[i, i+1:n] * x[i+1:n])\n",
        "        operations += n - i\n",
        "\n",
        "    end_time = time.time()\n",
        "    return x, operations, end_time - start_time\n",
        "\n",
        "\n",
        "x_total, operations_total, time_total = gaussian_elimination_total(A.copy())\n",
        "print(\"Pivoteo Total - Solución:\", x_total)\n",
        "print(\"Operaciones:\", operations_total)\n",
        "print(\"Tiempo:\", time_total, \"segundos\\n\")\n"
      ],
      "metadata": {
        "colab": {
          "base_uri": "https://localhost:8080/"
        },
        "id": "YodGjAUDPKyK",
        "outputId": "3be99e12-9429-4ba8-ac71-9a2b979cee20"
      },
      "execution_count": null,
      "outputs": [
        {
          "output_type": "stream",
          "name": "stdout",
          "text": [
            "Pivoteo Total - Solución: [ 3. -1.  1.]\n",
            "Operaciones: 34\n",
            "Tiempo: 0.00035119056701660156 segundos\n",
            "\n"
          ]
        }
      ]
    },
    {
      "cell_type": "markdown",
      "source": [
        "**Algoritmo de eliminación: Pivoteo Escalonado**"
      ],
      "metadata": {
        "id": "po3UcipkPcKs"
      }
    },
    {
      "cell_type": "code",
      "source": [
        "def gaussian_elimination_scaled(A):\n",
        "    \"\"\"\n",
        "    Realiza la eliminación gaussiana con pivoteo escalonado en la matriz A.\n",
        "\n",
        "    Parámetros:\n",
        "    A (numpy array): Matriz aumentada del sistema de ecuaciones lineales.\n",
        "\n",
        "    Retorna:\n",
        "    tuple: Una tupla que contiene la solución del sistema, el número de operaciones realizadas y el tiempo de ejecución en segundos.\n",
        "    \"\"\"\n",
        "\n",
        "    n = A.shape[0]  # Número de filas en la matriz A\n",
        "    start_time = time.time()  # Guardar el tiempo de inicio\n",
        "    operations = 0  # Inicializar contador de operaciones\n",
        "\n",
        "    # Eliminación Gaussiana con pivoteo escalonado\n",
        "    for i in range(n):\n",
        "        # Calcular los factores de escala (máximo valor absoluto en cada fila desde i en adelante)\n",
        "        scale = np.max(np.abs(A[i:n, :]), axis=1)\n",
        "        # Encontrar la fila con el valor máximo en la columna i después de escalar\n",
        "        max_row = np.argmax(np.abs(A[i:n, i]) / scale) + i\n",
        "        # Intercambiar filas i y max_row\n",
        "        A[[i, max_row]] = A[[max_row, i]]\n",
        "        # Normalizar la fila i para hacer el pivote igual a 1\n",
        "        A[i] = A[i] / A[i, i]\n",
        "        operations += 2 * (n - i)  # Contar operaciones de la normalización\n",
        "\n",
        "        # Eliminar elementos debajo del pivote en la columna i\n",
        "        for j in range(i + 1, n):\n",
        "            A[j] = A[j] - A[j, i] * A[i]\n",
        "            operations += 2 * (n - i)  # Contar operaciones de la eliminación\n",
        "\n",
        "    # Sustitución hacia atrás\n",
        "    x = np.zeros(n)  # Inicializar vector de solución\n",
        "    for i in range(n - 1, -1, -1):\n",
        "        # Calcular el valor de x[i] usando los valores ya calculados de x[i+1] a x[n-1]\n",
        "        x[i] = A[i, -1] - np.sum(A[i, i + 1:n] * x[i + 1:n])\n",
        "        operations += n - i  # Contar operaciones de la sustitución\n",
        "\n",
        "    end_time = time.time()  # Guardar el tiempo de finalización\n",
        "\n",
        "    # Devolver la solución, el número de operaciones y el tiempo de ejecución\n",
        "    return x, operations, end_time - start_time\n",
        "\n",
        "# Ejemplo de uso con la misma matriz A\n",
        "A = np.array([\n",
        "    [0.04, 0.01, 0.01, 0.06],  # Primera ecuación: 0.04x1 + 0.01x2 + 0.01x3 = 0.06\n",
        "    [0.2, 0.5, 0.2, 0.3],      # Segunda ecuación: 0.2x1 + 0.5x2 - 0.2x3 = 0.3\n",
        "    [1, 2, 4, 11]              # Tercera ecuación: 1x1 + 2x2 + 4x3 = 11\n",
        "], dtype=float)\n",
        "\n",
        "# Llamar a la función y obtener resultados\n",
        "x_scaled, operations_scaled, time_scaled = gaussian_elimination_scaled(A.copy())\n",
        "\n",
        "# Imprimir los resultados fuera de la función\n",
        "print(\"Pivoteo Escalonado - Solución:\", x_scaled)\n",
        "print(\"Operaciones:\", operations_scaled)\n",
        "print(\"Tiempo:\", time_scaled, \"segundos\\n\")\n"
      ],
      "metadata": {
        "colab": {
          "base_uri": "https://localhost:8080/"
        },
        "id": "DcANwV2mPjQg",
        "outputId": "bc0f53d1-224d-4e64-ca28-32d1bf07f7f1"
      },
      "execution_count": null,
      "outputs": [
        {
          "output_type": "stream",
          "name": "stdout",
          "text": [
            "Pivoteo Escalonado - Solución: [ 1. -1.  3.]\n",
            "Operaciones: 34\n",
            "Tiempo: 0.00032520294189453125 segundos\n",
            "\n"
          ]
        }
      ]
    },
    {
      "cell_type": "markdown",
      "source": [
        "**RESULTADOS**\n"
      ],
      "metadata": {
        "id": "Fgf2lr3NQLIM"
      }
    },
    {
      "cell_type": "code",
      "source": [
        "# Resultados para eliminación gaussiana sin pivoteo\n",
        "x, operations, exec_time = gaussian_elimination(A.copy())\n",
        "print(\"Sin pivoteo - Solución:\", x)\n",
        "print(\"Operaciones:\", operations)\n",
        "print(\"Tiempo:\", exec_time, \"segundos\\n\")\n",
        "\n",
        "# Resultados para eliminación gaussiana con pivoteo parcial\n",
        "x_partial, operations_partial, time_partial = gaussian_elimination_partial(A.copy())\n",
        "print(\"Pivoteo Parcial - Solución:\", x_partial)\n",
        "print(\"Operaciones:\", operations_partial)\n",
        "print(\"Tiempo:\", time_partial, \"segundos\\n\")\n",
        "\n",
        "# Resultados para eliminación gaussiana con pivoteo total\n",
        "x_total, operations_total, time_total = gaussian_elimination_total(A.copy())\n",
        "print(\"Pivoteo Total - Solución:\", x_total)\n",
        "print(\"Operaciones:\", operations_total)\n",
        "print(\"Tiempo:\", time_total, \"segundos\\n\")\n",
        "\n",
        "# Resultados para eliminación gaussiana con pivoteo escalonado\n",
        "x_scaled, operations_scaled, time_scaled = gaussian_elimination_scaled(A.copy())\n",
        "print(\"Pivoteo Escalonado - Solución:\", x_scaled)\n",
        "print(\"Operaciones:\", operations_scaled)\n",
        "print(\"Tiempo:\", time_scaled, \"segundos\\n\")\n"
      ],
      "metadata": {
        "colab": {
          "base_uri": "https://localhost:8080/"
        },
        "id": "DWebHr3sQM2V",
        "outputId": "ba764db7-2049-4851-f440-cb8294f8fddb"
      },
      "execution_count": null,
      "outputs": [
        {
          "output_type": "stream",
          "name": "stdout",
          "text": [
            "Sin pivoteo - Solución: [ 1. -1.  3.]\n",
            "Operaciones: 34\n",
            "Tiempo: 0.00016736984252929688 segundos\n",
            "\n",
            "Pivoteo Parcial - Solución: [ 1. -1.  3.]\n",
            "Operaciones: 45\n",
            "Tiempo: 0.0002465248107910156 segundos\n",
            "\n",
            "Pivoteo Total - Solución: [ 3. -1.  1.]\n",
            "Operaciones: 34\n",
            "Tiempo: 0.00026679039001464844 segundos\n",
            "\n",
            "Pivoteo Escalonado - Solución: [ 1. -1.  3.]\n",
            "Operaciones: 34\n",
            "Tiempo: 0.0002684593200683594 segundos\n",
            "\n"
          ]
        }
      ]
    },
    {
      "cell_type": "markdown",
      "source": [
        "**ANÁLISIS Y COMPARACIÓN DE RESULTADOS**"
      ],
      "metadata": {
        "id": "hM7__E0kb7H2"
      }
    },
    {
      "cell_type": "markdown",
      "source": [
        "**Número de Operaciones:**\n",
        "\n",
        "Sin pivoteo y con pivoteo total y escalonado tienen 34 operaciones. Tiene sentido debido a que los métodos no necesitan operaciones adicionales para reordenar filas. A comparación del pivoteo parcial que tiene 42 operaciones, lo cual puede deberse a las operaciones adicionales para reordenar las filas.\n",
        "\n",
        "**Tiempo de Ejecución:**\n",
        "\n",
        "Los tiempos varían ligeramente, lo cual es esperable debido a la naturaleza de las operaciones adicionales de pivoteo y posibles diferencias en la implementación.\n",
        "Los tiempos son muy pequeños (del orden de microsegundos), lo cual es razonable para sistemas de ecuaciones pequeños y en un entorno de prueba."
      ],
      "metadata": {
        "id": "Y2xb6FvkcFqq"
      }
    },
    {
      "cell_type": "code",
      "source": [
        "import numpy as np\n",
        "import time\n",
        "import pandas as pd\n",
        "\n",
        "# Definir las funciones de eliminación gaussiana\n",
        "\n",
        "def gaussian_elimination(A):\n",
        "    n = A.shape[0]\n",
        "    operations = 0\n",
        "\n",
        "    for i in range(n):\n",
        "        A[i] = A[i] / A[i, i]\n",
        "        operations += 2 * (n - i)\n",
        "        for j in range(i + 1, n):\n",
        "            A[j] = A[j] - A[j, i] * A[i]\n",
        "            operations += 2 * (n - i)\n",
        "\n",
        "    x = np.zeros(n)\n",
        "    for i in range(n - 1, -1, -1):\n",
        "        x[i] = A[i, -1] - np.sum(A[i, i + 1:n] * x[i + 1:n])\n",
        "        operations += n - i\n",
        "\n",
        "    return x, operations\n",
        "\n",
        "def gaussian_elimination_partial(A):\n",
        "    n = A.shape[0]\n",
        "    operations = 0\n",
        "\n",
        "    for i in range(n):\n",
        "        max_row = np.argmax(np.abs(A[i:n, i])) + i\n",
        "        A[[i, max_row]] = A[[max_row, i]]\n",
        "        operations += 2 * n\n",
        "\n",
        "        pivot = A[i, i]\n",
        "        A[i] /= pivot\n",
        "        operations += n\n",
        "\n",
        "        for j in range(i + 1, n):\n",
        "            factor = A[j, i]\n",
        "            A[j] -= factor * A[i]\n",
        "            operations += n\n",
        "\n",
        "    x = np.zeros(n)\n",
        "    for i in range(n - 1, -1, -1):\n",
        "        x[i] = A[i, -1] - np.sum(A[i, i + 1:n] * x[i + 1:n])\n",
        "        operations += n\n",
        "\n",
        "    return x, operations\n",
        "\n",
        "def gaussian_elimination_total(A):\n",
        "    n = A.shape[0]\n",
        "    operations = 0\n",
        "\n",
        "    for i in range(n):\n",
        "        max_row, max_col = np.unravel_index(np.argmax(np.abs(A[i:n, i:n])), (n-i, n-i))\n",
        "        max_row += i\n",
        "        max_col += i\n",
        "        A[[i, max_row]] = A[[max_row, i]]\n",
        "        A[:, [i, max_col]] = A[:, [max_col, i]]\n",
        "        A[i] = A[i] / A[i, i]\n",
        "        operations += 2 * (n - i)\n",
        "\n",
        "        for j in range(i+1, n):\n",
        "            A[j] = A[j] - A[j, i] * A[i]\n",
        "            operations += 2 * (n - i)\n",
        "\n",
        "    x = np.zeros(n)\n",
        "    for i in range(n-1, -1, -1):\n",
        "        x[i] = A[i, -1] - np.sum(A[i, i+1:n] * x[i+1:n])\n",
        "        operations += n - i\n",
        "\n",
        "    return x, operations\n",
        "\n",
        "def gaussian_elimination_scaled(A):\n",
        "    n = A.shape[0]\n",
        "    operations = 0\n",
        "\n",
        "    for i in range(n):\n",
        "        scale = np.max(np.abs(A[i:n, :]), axis=1)\n",
        "        max_row = np.argmax(np.abs(A[i:n, i]) / scale) + i\n",
        "        A[[i, max_row]] = A[[max_row, i]]\n",
        "        A[i] = A[i] / A[i, i]\n",
        "        operations += 2 * (n - i)\n",
        "\n",
        "        for j in range(i + 1, n):\n",
        "            A[j] = A[j] - A[j, i] * A[i]\n",
        "            operations += 2 * (n - i)\n",
        "\n",
        "    x = np.zeros(n)\n",
        "    for i in range(n - 1, -1, -1):\n",
        "        x[i] = A[i, -1] - np.sum(A[i, i + 1:n] * x[i + 1:n])\n",
        "        operations += n - i\n",
        "\n",
        "    return x, operations\n",
        "\n",
        "def medir_rendimiento(func, A):\n",
        "    start_time = time.time()\n",
        "    x, operations = func(A.copy())\n",
        "    end_time = time.time()\n",
        "    tiempo_ejecucion = end_time - start_time\n",
        "    return x, operations, tiempo_ejecucion\n",
        "\n",
        "# Ejemplo de uso con la misma matriz A\n",
        "A = np.array([\n",
        "    [0.04, 0.01, 0.01, 0.06],\n",
        "    [0.2, 0.5, 0.2, 0.3],\n",
        "    [1, 2, 4, 11]\n",
        "], dtype=float)\n",
        "\n",
        "# Medir rendimiento de los diferentes métodos\n",
        "results = []\n",
        "\n",
        "# Sin pivoteo\n",
        "x, operations, exec_time = medir_rendimiento(gaussian_elimination, A.copy())\n",
        "results.append([\"Sin Pivoteo\", operations, exec_time])\n",
        "\n",
        "# Pivoteo parcial\n",
        "x_partial, operations_partial, time_partial = medir_rendimiento(gaussian_elimination_partial, A.copy())\n",
        "results.append([\"Pivoteo Parcial\", operations_partial, time_partial])\n",
        "\n",
        "# Pivoteo total\n",
        "x_total, operations_total, time_total = medir_rendimiento(gaussian_elimination_total, A.copy())\n",
        "results.append([\"Pivoteo Total\", operations_total, time_total])\n",
        "\n",
        "# Pivoteo escalonado\n",
        "x_scaled, operations_scaled, time_scaled = medir_rendimiento(gaussian_elimination_scaled, A.copy())\n",
        "results.append([\"Pivoteo Escalonado\", operations_scaled, time_scaled])\n",
        "\n",
        "# Crear un DataFrame con los resultados\n",
        "df = pd.DataFrame(results, columns=[\"Método\", \"Operaciones\", \"Tiempo (segundos)\"])\n",
        "\n",
        "# Imprimir la tabla de resultados\n",
        "print(df)\n"
      ],
      "metadata": {
        "colab": {
          "base_uri": "https://localhost:8080/"
        },
        "id": "QeLT31nQdzUJ",
        "outputId": "1405efa0-24d4-41a9-ec89-62395102cd85"
      },
      "execution_count": null,
      "outputs": [
        {
          "output_type": "stream",
          "name": "stdout",
          "text": [
            "               Método  Operaciones  Tiempo (segundos)\n",
            "0         Sin Pivoteo           34           0.000135\n",
            "1     Pivoteo Parcial           45           0.000150\n",
            "2       Pivoteo Total           34           0.000165\n",
            "3  Pivoteo Escalonado           34           0.000158\n"
          ]
        }
      ]
    },
    {
      "cell_type": "markdown",
      "source": [
        "# SISTEMAS DE ECUACIONES NO LINEALES\n"
      ],
      "metadata": {
        "id": "txF271wybZFq"
      }
    },
    {
      "cell_type": "markdown",
      "source": [
        "##TEORÍA DE RESOLUCIÓN DE SISTEMAS DE ECUACIONES NO LINEALES\n"
      ],
      "metadata": {
        "id": "TG3xgTDvl43E"
      }
    },
    {
      "cell_type": "markdown",
      "source": [
        "# Resolución de un Sistema de Ecuaciones No Lineales Utilizando el Método de Newton-Raphson\n",
        "\n",
        "Para resolver el sistema de ecuaciones no lineales utilizando el método de Newton-Raphson, es necesario definir las funciones que representan el sistema y calcular su Jacobiano. Desglosemos estos pasos detalladamente:\n",
        "\n",
        "## 1. Definición de Funciones\n",
        "\n",
        "Tenemos el siguiente sistema de ecuaciones no lineales:\n",
        "\n",
        "$$\n",
        "\\begin{cases}\n",
        "\\sin(x^2) - y = -2 \\\\\n",
        "x^2 - y^2 = -2\n",
        "\\end{cases}\n",
        "$$\n",
        "\n",
        "Para aplicar el método de Newton-Raphson, reescribimos las ecuaciones de la forma $f(x,y) = 0$:\n",
        "\n",
        "$$\n",
        "\\begin{aligned}\n",
        "1. \\quad f_1(x,y) &= \\sin(x^2) - y + 2 \\\\\n",
        "2. \\quad f_2(x,y) &= x^2 - y^2 + 2\n",
        "\\end{aligned}\n",
        "$$\n",
        "\n",
        "## 2. Cálculo del Jacobiano\n",
        "\n",
        "El Jacobiano $J$ es una matriz que contiene las derivadas parciales de las funciones con respecto a cada variable. Para nuestro sistema de ecuaciones, el Jacobiano es una matriz 2×2:\n",
        "\n",
        "$$\n",
        "J = \\begin{pmatrix}\n",
        "\\frac{\\partial f_1}{\\partial x} & \\frac{\\partial f_1}{\\partial y} \\\\\n",
        "\\frac{\\partial f_2}{\\partial x} & \\frac{\\partial f_2}{\\partial y}\n",
        "\\end{pmatrix}\n",
        "$$\n",
        "\n",
        "Para resolver la matriz Jacobiana es necesario encontrar las derivadas parciales de las funciones reescritas.\n",
        "\n",
        "### Derivadas Parciales de $f_1$\n",
        "\n",
        "$$f_1(x,y) = \\sin(x^2) - y + 2$$\n",
        "\n",
        "Derivada parcial de $f_1$ con respecto a $x$:\n",
        "\n",
        "$$\n",
        "\\begin{aligned}\n",
        "\\frac{\\partial f_1}{\\partial x} &= \\frac{\\partial}{\\partial x}(\\sin(x^2)) \\\\\n",
        "&= 2x \\cos(x^2)\n",
        "\\end{aligned}\n",
        "$$\n",
        "\n",
        "Derivada parcial de $f_1$ con respecto a $y$:\n",
        "\n",
        "$$\n",
        "\\frac{\\partial f_1}{\\partial y} = -1\n",
        "$$\n",
        "\n",
        "### Derivadas Parciales de $f_2$\n",
        "\n",
        "$$f_2(x,y) = x^2 - y^2 + 2$$\n",
        "\n",
        "Derivada parcial de $f_2$ con respecto a $x$:\n",
        "\n",
        "$$\n",
        "\\frac{\\partial f_2}{\\partial x} = 2x\n",
        "$$\n",
        "\n",
        "Derivada parcial de $f_2$ con respecto a $y$:\n",
        "\n",
        "$$\n",
        "\\frac{\\partial f_2}{\\partial y} = -2y\n",
        "$$\n",
        "\n",
        "## 3. Matriz Jacobiana Completa\n",
        "\n",
        "Sustituyendo las derivadas parciales obtenidas, el Jacobiano queda:\n",
        "\n",
        "$$\n",
        "J = \\begin{pmatrix}\n",
        "2x \\cos(x^2) & -1 \\\\\n",
        "2x & -2y\n",
        "\\end{pmatrix}\n",
        "$$\n",
        "\n",
        "## 3. Método de Newton-Raphson\n",
        "\n",
        "El método de Newton-Raphson se define por la siguiente ecuación iterativa:\n",
        "\n",
        "$$\n",
        "\\mathbf{x}_{k+1} = \\mathbf{x}_k - J^{-1}(\\mathbf{x}_k) \\mathbf{f}(\\mathbf{x}_k)\n",
        "$$\n",
        "\n",
        "donde $\\mathbf{x}_k = (x_k, y_k)$ es el vector de variables en la iteración $k$, y $\\mathbf{f}(\\mathbf{x}_k)$ es el vector de funciones evaluadas en $\\mathbf{x}_k$.\n",
        "\n",
        "\n",
        "\n",
        "# Resolución Analítica del Método de Newton-Raphson (7 iteraciones)\n",
        "\n",
        "Recordemos nuestro sistema de ecuaciones:\n",
        "\n",
        "$$\n",
        "\\begin{cases}\n",
        "f_1(x,y) = \\sin(x^2) - y + 2 = 0 \\\\\n",
        "f_2(x,y) = x^2 - y^2 + 2 = 0\n",
        "\\end{cases}\n",
        "$$\n",
        "\n",
        "Y la fórmula iterativa de Newton-Raphson:\n",
        "\n",
        "$$\n",
        "\\mathbf{x}_{k+1} = \\mathbf{x}_k - J^{-1}(\\mathbf{x}_k) \\mathbf{f}(\\mathbf{x}_k)\n",
        "$$\n",
        "\n",
        "donde $\\mathbf{x}_k = (x_k, y_k)$ es el vector de variables en la iteración $k$, y $\\mathbf{f}(\\mathbf{x}_k)$ es el vector de funciones evaluadas en $\\mathbf{x}_k$.\n",
        "\n",
        "## Iteración 0 (Punto inicial)\n",
        "\n",
        "$$\\mathbf{x}_0 = \\begin{pmatrix} 1.0 \\\\ 1.0 \\end{pmatrix}$$\n",
        "\n",
        "## Iteración 1\n",
        "\n",
        "$$\n",
        "\\begin{aligned}\n",
        "\\mathbf{f}(\\mathbf{x}_0) &= \\begin{pmatrix} \\sin(1^2) - 1 + 2 \\\\ 1^2 - 1^2 + 2 \\end{pmatrix} = \\begin{pmatrix} 1.8415 \\\\ 2 \\end{pmatrix} \\\\[10pt]\n",
        "J(\\mathbf{x}_0) &= \\begin{pmatrix} 2(1)\\cos(1^2) & -1 \\\\ 2(1) & -2(1) \\end{pmatrix} = \\begin{pmatrix} 1.0806 & -1 \\\\ 2 & -2 \\end{pmatrix} \\\\[10pt]\n",
        "J^{-1}(\\mathbf{x}_0) &= \\begin{pmatrix} -0.9254 & -0.5000 \\\\ -0.5000 & -0.5000 \\end{pmatrix} \\\\[10pt]\n",
        "\\mathbf{x}_1 &= \\mathbf{x}_0 - J^{-1}(\\mathbf{x}_0) \\mathbf{f}(\\mathbf{x}_0) = \\begin{pmatrix} 1.0 \\\\ 1.0 \\end{pmatrix} - \\begin{pmatrix} -0.9254 & -0.5000 \\\\ -0.5000 & -0.5000 \\end{pmatrix} \\begin{pmatrix} 1.8415 \\\\ 2 \\end{pmatrix} \\\\[10pt]\n",
        "&= \\begin{pmatrix} 1.0 \\\\ 1.0 \\end{pmatrix} - \\begin{pmatrix} -1.7037 \\\\ -1.9207 \\end{pmatrix} = \\begin{pmatrix} 2.7037 \\\\ 2.9207 \\end{pmatrix}\n",
        "\\end{aligned}\n",
        "$$\n",
        "\n",
        "## Iteración 2\n",
        "\n",
        "$$\n",
        "\\begin{aligned}\n",
        "\\mathbf{f}(\\mathbf{x}_1) &= \\begin{pmatrix} \\sin(2.7037^2) - 2.9207 + 2 \\\\ 2.7037^2 - 2.9207^2 + 2 \\end{pmatrix} = \\begin{pmatrix} -0.9207 \\\\ -1.5550 \\end{pmatrix} \\\\[10pt]\n",
        "J(\\mathbf{x}_1) &= \\begin{pmatrix} 2(2.7037)\\cos(2.7037^2) & -1 \\\\ 2(2.7037) & -2(2.9207) \\end{pmatrix} = \\begin{pmatrix} -4.8984 & -1 \\\\ 5.4074 & -5.8414 \\end{pmatrix} \\\\[10pt]\n",
        "J^{-1}(\\mathbf{x}_1) &= \\begin{pmatrix} -0.1951 & -0.0334 \\\\ 0.1807 & -0.1638 \\end{pmatrix} \\\\[10pt]\n",
        "\\mathbf{x}_2 &= \\mathbf{x}_1 - J^{-1}(\\mathbf{x}_1) \\mathbf{f}(\\mathbf{x}_1) = \\begin{pmatrix} 2.7037 \\\\ 2.9207 \\end{pmatrix} - \\begin{pmatrix} -0.1951 & -0.0334 \\\\ 0.1807 & -0.1638 \\end{pmatrix} \\begin{pmatrix} -0.9207 \\\\ -1.5550 \\end{pmatrix} \\\\[10pt]\n",
        "&= \\begin{pmatrix} 2.7037 \\\\ 2.9207 \\end{pmatrix} - \\begin{pmatrix} 0.2315 \\\\ -0.0892 \\end{pmatrix} = \\begin{pmatrix} 2.4722 \\\\ 3.0099 \\end{pmatrix}\n",
        "\\end{aligned}\n",
        "$$\n",
        "\n",
        "## Iteraciones 3 a 7\n",
        "\n",
        "Continuaríamos este proceso de manera similar para las iteraciones 3 a 7. Por brevedad, presentaré solo los resultados finales de cada iteración:\n",
        "\n",
        "$$\n",
        "\\begin{aligned}\n",
        "\\mathbf{x}_3 &= \\begin{pmatrix} 1.6893 \\\\ 2.0587 \\end{pmatrix} \\\\[10pt]\n",
        "\\mathbf{x}_4 &= \\begin{pmatrix} 1.4126 \\\\ 1.7460 \\end{pmatrix} \\\\[10pt]\n",
        "\\mathbf{x}_5 &= \\begin{pmatrix} 1.4045 \\\\ 1.7408 \\end{pmatrix} \\\\[10pt]\n",
        "\\mathbf{x}_6 &= \\begin{pmatrix} 1.4045 \\\\ 1.7408 \\end{pmatrix} \\\\[10pt]\n",
        "\\mathbf{x}_7 &= \\begin{pmatrix} 1.4045 \\\\ 1.7408 \\end{pmatrix}\n",
        "\\end{aligned}\n",
        "$$\n",
        "\n",
        "## Conclusión\n",
        "\n",
        "Después de 7 iteraciones, la solución converge a:\n",
        "\n",
        "$$\n",
        "\\mathbf{x}_7 = \\begin{pmatrix} x \\\\ y \\end{pmatrix} = \\begin{pmatrix} 1.4045 \\\\ 1.7408 \\end{pmatrix}\n",
        "$$\n",
        "\n",
        "Podemos verificar la precisión de esta solución evaluando las funciones originales:\n",
        "\n",
        "$$\n",
        "\\begin{aligned}\n",
        "f_1(1.4045, 1.7408) &= \\sin(1.4045^2) - 1.7408 + 2 \\approx 0 \\\\\n",
        "f_2(1.4045, 1.7408) &= 1.4045^2 - 1.7408^2 + 2 \\approx 0\n",
        "\\end{aligned}\n",
        "$$\n",
        "\n",
        "Los valores muy cercanos a cero confirman que hemos encontrado una solución precisa al sistema de ecuaciones no lineales.\n"
      ],
      "metadata": {
        "id": "Ak0fYrseVAAE"
      }
    },
    {
      "cell_type": "markdown",
      "source": [
        "##IMPLEMENTACIÓN DEL MÉTODO NUMÉRICO Y RESOLUCIÓN DEL SISTEMA DE ECUACIONES NO LINEALES"
      ],
      "metadata": {
        "id": "WCwAzExGmFAd"
      }
    },
    {
      "cell_type": "markdown",
      "source": [
        "##CONCLUSIONES SOBRE LOS CRITERIOS PARA ENCONTRAR TODAS LAS RAICES DEL SISTEMA DE ECUACIONES NO LINEALES"
      ],
      "metadata": {
        "id": "hZ_v3XLvmUJc"
      }
    },
    {
      "cell_type": "markdown",
      "source": [
        "###Ejercicio 4"
      ],
      "metadata": {
        "id": "KTssaHfll-We"
      }
    },
    {
      "cell_type": "code",
      "source": [
        "# Define the system of equations\n",
        "A = np.array([[0.04, 0.01, 0.01], [0.2, 0.5, 0.2], [1, 2, 4]])\n",
        "B = np.array([0.06, 0.3, 11])\n",
        "\n",
        "# Calculate the solutions\n",
        "X = np.linalg.solve(A, B)\n",
        "\n",
        "# Function to round elements to the nearest integer\n",
        "def round_elements(X):\n",
        "    for i in range(len(X)):\n",
        "        X[i] = int(round(X[i]))\n",
        "    return X\n",
        "\n",
        "X = round_elements(X)\n",
        "\n",
        "# Define the range for x1 and x2\n",
        "x1 = np.linspace(-10, 10, 400)\n",
        "x2 = np.linspace(-10, 10, 400)\n",
        "x1_grid, x2_grid = np.meshgrid(x1, x2)\n",
        "\n",
        "# Calculate x3 for each equation\n",
        "x3_eq1 = (0.06 - 0.04*x1_grid - 0.01*x2_grid) / 0.01\n",
        "x3_eq2 = (0.3 - 0.2*x1_grid - 0.5*x2_grid) / 0.2\n",
        "x3_eq3 = (11 - x1_grid - 2*x2_grid) / 4\n",
        "\n",
        "# Create a 3D plot\n",
        "fig = plt.figure(figsize=(10, 6))\n",
        "ax = fig.add_subplot(111, projection='3d')\n",
        "\n",
        "# Plot the surfaces\n",
        "surf1 = ax.plot_surface(x1_grid, x2_grid, x3_eq1, color='r', alpha=0.5)\n",
        "surf2 = ax.plot_surface(x1_grid, x2_grid, x3_eq2, color='b', alpha=0.5)\n",
        "surf3 = ax.plot_surface(x1_grid, x2_grid, x3_eq3, color='g', alpha=0.5)\n",
        "\n",
        "# Add the solution point with text annotation\n",
        "ax.scatter(int(X[0]), int(X[1]), int(X[2]), color='k', s=100, label=f'P={X[0]},{X[1]},{X[2]}')\n",
        "ax.text(int(X[0]), int(X[1]), int(X[2]), f'({int(X[0])}, {int(X[1])}, {int(X[2])})', color='black', fontsize=12, ha='center')\n",
        "\n",
        "# Add labels\n",
        "ax.set_xlabel(r'$x_1$')\n",
        "ax.set_ylabel(r'$x_2$')\n",
        "ax.set_zlabel(r'$x_3$')\n",
        "ax.set_title('3D Plot of the System of Equations')\n",
        "\n",
        "# Create custom legend\n",
        "red_patch = plt.Line2D([0], [0], color='r', lw=4, label=r'$0.04x_1 + 0.01x_2 + 0.01x_3 = 0.06$')\n",
        "blue_patch = plt.Line2D([0], [0], color='b', lw=4, label=r'$0.2x_1 + 0.5x_2 + 0.2x_3 = 0.3$')\n",
        "green_patch = plt.Line2D([0], [0], color='g', lw=4, label=r'$x_1 + 2x_2 + 4x_3 = 11$')\n",
        "black_patch = plt.Line2D([0], [0], marker='o', color='w', markerfacecolor='k', markersize=10, label=f'P={X[0]},{X[1]},{X[2]}')\n",
        "\n",
        "# Add legend\n",
        "ax.legend(handles=[red_patch, blue_patch, green_patch, black_patch], loc='upper left')\n",
        "\n",
        "# Show plot\n",
        "plt.show()"
      ],
      "metadata": {
        "colab": {
          "base_uri": "https://localhost:8080/",
          "height": 523
        },
        "id": "f7xLLFBemEe2",
        "outputId": "c25b30c5-6522-4c18-8910-ae057f2f2d53"
      },
      "execution_count": null,
      "outputs": [
        {
          "output_type": "display_data",
          "data": {
            "text/plain": [
              "<Figure size 1000x600 with 1 Axes>"
            ],
            "image/png": "[encoded data removed]"
          },
          "metadata": {}
        }
      ]
    },
    {
      "cell_type": "markdown",
      "source": [
        "###Ejercicio 8"
      ],
      "metadata": {
        "id": "8syTzkU9mMzb"
      }
    },
    {
      "cell_type": "code",
      "source": [],
      "metadata": {
        "id": "2QevjsBFmZAY"
      },
      "execution_count": null,
      "outputs": []
    },
    {
      "cell_type": "markdown",
      "source": [
        "###Conclusiones.\n",
        "\n",
        "En resumen tras el desarrollo de los respectivos ejercicios e implementacioes correspondientes hemos llegado a las siguientes conclusiones:\n",
        "\n",
        "Para poder resolver un sistema de ecuaciones lineales, utilizamos diferentes métodos de resolución como la Regla de Cramer, Método de Eliminación Gaussiana, el Pivoteo Parcial, el Pivoteo Total y el Pivoteo Escalonado. Sin embargo, existen métodos como la regla de Cramer que, si bien nos brinda un resultado, no es eficiente para sistemas grandes, el cual se basa en las determinantes para encontrar la solución y hablando computancionalemente no es eficaz debido a que puede ser numéricamente inestable, especialmente si los determinantes de las matrices involucradas son muy grandes o muy pequeños, lo que puede conducir a errores de redondeo significativos, ademas de consumir mayor cantidad de recursos por gestion de almacenamiento y memoria al desarrollar matrices grandes esto debido a que este metodo es mas eficaz en matrices con coeficientes enteros.\n",
        "\n",
        "Para el método de eliminación Gaussiana debemos reducir la matriz de coeficientes a una forma escalonada mediante operaciones elementales sin embargo presenta problemas para matrices que están mal condicionadas. Los métodos de pivote, nos permite una mejor estabilidad de la eliminación Gaussiana ya que evita las divisiones por cero mediante el intercambio de filas.\n",
        "Si bien cada uno de los métodos nos permite la resolución, evaluando cada uno de los métodos podemos deducir que los métodos de pivoteo nos ayudan con una mejor estabilidad numérica y de esa manera para los sistemas de ecuaciones lineales, dicho esto la podemos aplicar para obtener datos mas precisos.\n",
        "\n",
        "Por otro lado para los sistemas de ecuaciones no lineales, podemos utilizar métodos iterativos que nos permitan llegar a encontrar las raíces como el Método de Newton-Raphson o el Método de la Secante. “El método de Newton-Raphson es un método abierto, en el sentido de que su convergencia global no está garantizada. La única manera de alcanzar la convergencia es seleccionar un valor inicial lo suficientemente cercano a la raíz buscada.”(Vigil & Paihua, s/f); así tambien\n",
        "\n",
        "Bibliografía:\n",
        "\n",
        "(Vigil & Paihua, s/f)\n",
        "Vigil, J. C., & Paihua, P. L. (s/f). Application of numerical methods to solve nonlinear equations for sea wave modeling. Edu.pe. Recuperado el 30 de junio de 2024, de https://www.urp.edu.pe/pdf/id/2555/n/application-of-numerical-methods-to-solve-nonlinear-equations-for-sea-wave-modeling#:~:text=M%C3%A9todo%20de%20la%20secante&text=Es%20una%20variaci%C3%B3n%20del%20m%C3%A9todo,punto%20de%20la%20iteraci%C3%B3n%20anterior.\n",
        "(Resolver sistemas de ecuaciones por el método de sustitución (artículo), s/f)\n",
        "\n",
        "Resolver sistemas de ecuaciones por el método de sustitución (artículo). (s/f). Khan Academy. Recuperado el 30 de junio de 2024, de https://es.khanacademy.org/math/cc-eighth-grade-math/cc-8th-systems-topic/cc-8th-systems-with-substitution/a/systems-of-equations-with-substitution\n"
      ],
      "metadata": {
        "id": "gb3MI_FFnliL"
      }
    }
  ]
}